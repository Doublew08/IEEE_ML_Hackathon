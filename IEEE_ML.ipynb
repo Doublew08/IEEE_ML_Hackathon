{
  "nbformat": 4,
  "nbformat_minor": 0,
  "metadata": {
    "colab": {
      "name": "IEEE ML",
      "provenance": [],
      "collapsed_sections": [],
      "authorship_tag": "ABX9TyMpwLP6aiMIPRkLrFU3sn3g",
      "include_colab_link": true
    },
    "kernelspec": {
      "name": "python3",
      "display_name": "Python 3"
    },
    "language_info": {
      "name": "python"
    }
  },
  "cells": [
    {
      "cell_type": "markdown",
      "metadata": {
        "id": "view-in-github",
        "colab_type": "text"
      },
      "source": [
        "<a href=\"https://colab.research.google.com/github/Doublew08/IEEE_ML_Hackathon/blob/main/IEEE_ML.ipynb\" target=\"_parent\"><img src=\"https://colab.research.google.com/assets/colab-badge.svg\" alt=\"Open In Colab\"/></a>"
      ]
    },
    {
      "cell_type": "markdown",
      "source": [
        "Importing libs"
      ],
      "metadata": {
        "id": "gbiPQhLLvr8S"
      }
    },
    {
      "cell_type": "code",
      "source": [
        "import pandas as pd\n",
        "import numpy as np\n",
        "import matplotlib.pyplot as plt\n",
        "from sklearn.model_selection import train_test_split\n",
        "from sklearn.svm import SVC\n",
        "from sklearn.metrics import f1_score, accuracy_score, confusion_matrix\n",
        "import seaborn as sns\n",
        "from tkinter import *\n",
        "from tkinter import messagebox\n",
        "import sys \n",
        "#import urllib\n",
        "#import urllib.request"
      ],
      "metadata": {
        "id": "mT02WRsSvvKB"
      },
      "execution_count": null,
      "outputs": []
    },
    {
      "cell_type": "markdown",
      "source": [
        "Importing Mount"
      ],
      "metadata": {
        "id": "xemCo2HkwKk5"
      }
    },
    {
      "cell_type": "code",
      "source": [
        "from google.colab import drive\n",
        "drive.mount('/content/drive')"
      ],
      "metadata": {
        "colab": {
          "base_uri": "https://localhost:8080/"
        },
        "id": "64Lfe8fQwRuZ",
        "outputId": "3e2f0ab7-aa13-4fd6-82bc-d2e347ae4f55"
      },
      "execution_count": null,
      "outputs": [
        {
          "output_type": "stream",
          "name": "stdout",
          "text": [
            "Drive already mounted at /content/drive; to attempt to forcibly remount, call drive.mount(\"/content/drive\", force_remount=True).\n"
          ]
        }
      ]
    },
    {
      "cell_type": "markdown",
      "source": [
        "Importing DataSet"
      ],
      "metadata": {
        "id": "40cwg4g-xSy1"
      }
    },
    {
      "cell_type": "code",
      "source": [
        "Ds = pd.read_csv('/content/drive/MyDrive/IEEE Hackathon/dataset.csv')\n",
        "Ds1 = pd.read_csv('/content/drive/MyDrive/IEEE Hackathon/Symptom-severity.csv')"
      ],
      "metadata": {
        "id": "oSg31f0TxWH2"
      },
      "execution_count": null,
      "outputs": []
    },
    {
      "cell_type": "markdown",
      "source": [
        "Cleaning of Data of Nans and replacing it with 0s"
      ],
      "metadata": {
        "id": "kqbBlAHrzmiA"
      }
    },
    {
      "cell_type": "code",
      "source": [
        "Ds.isna().sum()\n",
        "Ds.isnull().sum()\n",
        "\n",
        "cols = Ds.columns\n",
        "data = Ds[cols].values.flatten()\n",
        "\n",
        "s = pd.Series(data)\n",
        "s = s.str.strip()\n",
        "s = s.values.reshape(Ds.shape)\n",
        "\n",
        "Ds = pd.DataFrame(s, columns=Ds.columns)\n",
        "\n",
        "Ds = Ds.fillna(0)\n",
        "Ds.head()"
      ],
      "metadata": {
        "id": "cye9mJ0Dzwcu"
      },
      "execution_count": null,
      "outputs": []
    },
    {
      "cell_type": "markdown",
      "source": [
        "matching the symptoms with their respective weight "
      ],
      "metadata": {
        "id": "67EybM4z6_A4"
      }
    },
    {
      "cell_type": "code",
      "source": [
        "vals = Ds.values\n",
        "symptoms = Ds1['Symptom'].unique()\n",
        "\n",
        "for i in range(len(symptoms)):\n",
        "    vals[vals == symptoms[i]] = Ds1[Ds1['Symptom'] == symptoms[i]]['weight'].values[0]\n",
        "    \n",
        "d = pd.DataFrame(vals, columns=cols)\n",
        "\n",
        "d = d.replace('dischromic _patches', 0)\n",
        "d = d.replace('spotting_ urination',0)\n",
        "dsw = d.replace('foul_smell_of urine',0)\n",
        "dsw.head()"
      ],
      "metadata": {
        "colab": {
          "base_uri": "https://localhost:8080/",
          "height": 357
        },
        "id": "NnU_0iZw7PaE",
        "outputId": "c4d5aac1-72f8-44c2-f184-74300b4a033e"
      },
      "execution_count": null,
      "outputs": [
        {
          "output_type": "execute_result",
          "data": {
            "text/plain": [
              "            Disease  Symptom_1  Symptom_2  Symptom_3  Symptom_4  Symptom_5  \\\n",
              "0  Fungal infection          1          3          4          0          0   \n",
              "1  Fungal infection          3          4          0          0          0   \n",
              "2  Fungal infection          1          4          0          0          0   \n",
              "3  Fungal infection          1          3          0          0          0   \n",
              "4  Fungal infection          1          3          4          0          0   \n",
              "\n",
              "   Symptom_6  Symptom_7  Symptom_8  Symptom_9  Symptom_10  Symptom_11  \\\n",
              "0          0          0          0          0           0           0   \n",
              "1          0          0          0          0           0           0   \n",
              "2          0          0          0          0           0           0   \n",
              "3          0          0          0          0           0           0   \n",
              "4          0          0          0          0           0           0   \n",
              "\n",
              "   Symptom_12  Symptom_13  Symptom_14  Symptom_15  Symptom_16  Symptom_17  \n",
              "0           0           0           0           0           0           0  \n",
              "1           0           0           0           0           0           0  \n",
              "2           0           0           0           0           0           0  \n",
              "3           0           0           0           0           0           0  \n",
              "4           0           0           0           0           0           0  "
            ],
            "text/html": [
              "\n",
              "  <div id=\"df-41f9d03a-5796-4685-9628-2a8e631b98cb\">\n",
              "    <div class=\"colab-df-container\">\n",
              "      <div>\n",
              "<style scoped>\n",
              "    .dataframe tbody tr th:only-of-type {\n",
              "        vertical-align: middle;\n",
              "    }\n",
              "\n",
              "    .dataframe tbody tr th {\n",
              "        vertical-align: top;\n",
              "    }\n",
              "\n",
              "    .dataframe thead th {\n",
              "        text-align: right;\n",
              "    }\n",
              "</style>\n",
              "<table border=\"1\" class=\"dataframe\">\n",
              "  <thead>\n",
              "    <tr style=\"text-align: right;\">\n",
              "      <th></th>\n",
              "      <th>Disease</th>\n",
              "      <th>Symptom_1</th>\n",
              "      <th>Symptom_2</th>\n",
              "      <th>Symptom_3</th>\n",
              "      <th>Symptom_4</th>\n",
              "      <th>Symptom_5</th>\n",
              "      <th>Symptom_6</th>\n",
              "      <th>Symptom_7</th>\n",
              "      <th>Symptom_8</th>\n",
              "      <th>Symptom_9</th>\n",
              "      <th>Symptom_10</th>\n",
              "      <th>Symptom_11</th>\n",
              "      <th>Symptom_12</th>\n",
              "      <th>Symptom_13</th>\n",
              "      <th>Symptom_14</th>\n",
              "      <th>Symptom_15</th>\n",
              "      <th>Symptom_16</th>\n",
              "      <th>Symptom_17</th>\n",
              "    </tr>\n",
              "  </thead>\n",
              "  <tbody>\n",
              "    <tr>\n",
              "      <th>0</th>\n",
              "      <td>Fungal infection</td>\n",
              "      <td>1</td>\n",
              "      <td>3</td>\n",
              "      <td>4</td>\n",
              "      <td>0</td>\n",
              "      <td>0</td>\n",
              "      <td>0</td>\n",
              "      <td>0</td>\n",
              "      <td>0</td>\n",
              "      <td>0</td>\n",
              "      <td>0</td>\n",
              "      <td>0</td>\n",
              "      <td>0</td>\n",
              "      <td>0</td>\n",
              "      <td>0</td>\n",
              "      <td>0</td>\n",
              "      <td>0</td>\n",
              "      <td>0</td>\n",
              "    </tr>\n",
              "    <tr>\n",
              "      <th>1</th>\n",
              "      <td>Fungal infection</td>\n",
              "      <td>3</td>\n",
              "      <td>4</td>\n",
              "      <td>0</td>\n",
              "      <td>0</td>\n",
              "      <td>0</td>\n",
              "      <td>0</td>\n",
              "      <td>0</td>\n",
              "      <td>0</td>\n",
              "      <td>0</td>\n",
              "      <td>0</td>\n",
              "      <td>0</td>\n",
              "      <td>0</td>\n",
              "      <td>0</td>\n",
              "      <td>0</td>\n",
              "      <td>0</td>\n",
              "      <td>0</td>\n",
              "      <td>0</td>\n",
              "    </tr>\n",
              "    <tr>\n",
              "      <th>2</th>\n",
              "      <td>Fungal infection</td>\n",
              "      <td>1</td>\n",
              "      <td>4</td>\n",
              "      <td>0</td>\n",
              "      <td>0</td>\n",
              "      <td>0</td>\n",
              "      <td>0</td>\n",
              "      <td>0</td>\n",
              "      <td>0</td>\n",
              "      <td>0</td>\n",
              "      <td>0</td>\n",
              "      <td>0</td>\n",
              "      <td>0</td>\n",
              "      <td>0</td>\n",
              "      <td>0</td>\n",
              "      <td>0</td>\n",
              "      <td>0</td>\n",
              "      <td>0</td>\n",
              "    </tr>\n",
              "    <tr>\n",
              "      <th>3</th>\n",
              "      <td>Fungal infection</td>\n",
              "      <td>1</td>\n",
              "      <td>3</td>\n",
              "      <td>0</td>\n",
              "      <td>0</td>\n",
              "      <td>0</td>\n",
              "      <td>0</td>\n",
              "      <td>0</td>\n",
              "      <td>0</td>\n",
              "      <td>0</td>\n",
              "      <td>0</td>\n",
              "      <td>0</td>\n",
              "      <td>0</td>\n",
              "      <td>0</td>\n",
              "      <td>0</td>\n",
              "      <td>0</td>\n",
              "      <td>0</td>\n",
              "      <td>0</td>\n",
              "    </tr>\n",
              "    <tr>\n",
              "      <th>4</th>\n",
              "      <td>Fungal infection</td>\n",
              "      <td>1</td>\n",
              "      <td>3</td>\n",
              "      <td>4</td>\n",
              "      <td>0</td>\n",
              "      <td>0</td>\n",
              "      <td>0</td>\n",
              "      <td>0</td>\n",
              "      <td>0</td>\n",
              "      <td>0</td>\n",
              "      <td>0</td>\n",
              "      <td>0</td>\n",
              "      <td>0</td>\n",
              "      <td>0</td>\n",
              "      <td>0</td>\n",
              "      <td>0</td>\n",
              "      <td>0</td>\n",
              "      <td>0</td>\n",
              "    </tr>\n",
              "  </tbody>\n",
              "</table>\n",
              "</div>\n",
              "      <button class=\"colab-df-convert\" onclick=\"convertToInteractive('df-41f9d03a-5796-4685-9628-2a8e631b98cb')\"\n",
              "              title=\"Convert this dataframe to an interactive table.\"\n",
              "              style=\"display:none;\">\n",
              "        \n",
              "  <svg xmlns=\"http://www.w3.org/2000/svg\" height=\"24px\"viewBox=\"0 0 24 24\"\n",
              "       width=\"24px\">\n",
              "    <path d=\"M0 0h24v24H0V0z\" fill=\"none\"/>\n",
              "    <path d=\"M18.56 5.44l.94 2.06.94-2.06 2.06-.94-2.06-.94-.94-2.06-.94 2.06-2.06.94zm-11 1L8.5 8.5l.94-2.06 2.06-.94-2.06-.94L8.5 2.5l-.94 2.06-2.06.94zm10 10l.94 2.06.94-2.06 2.06-.94-2.06-.94-.94-2.06-.94 2.06-2.06.94z\"/><path d=\"M17.41 7.96l-1.37-1.37c-.4-.4-.92-.59-1.43-.59-.52 0-1.04.2-1.43.59L10.3 9.45l-7.72 7.72c-.78.78-.78 2.05 0 2.83L4 21.41c.39.39.9.59 1.41.59.51 0 1.02-.2 1.41-.59l7.78-7.78 2.81-2.81c.8-.78.8-2.07 0-2.86zM5.41 20L4 18.59l7.72-7.72 1.47 1.35L5.41 20z\"/>\n",
              "  </svg>\n",
              "      </button>\n",
              "      \n",
              "  <style>\n",
              "    .colab-df-container {\n",
              "      display:flex;\n",
              "      flex-wrap:wrap;\n",
              "      gap: 12px;\n",
              "    }\n",
              "\n",
              "    .colab-df-convert {\n",
              "      background-color: #E8F0FE;\n",
              "      border: none;\n",
              "      border-radius: 50%;\n",
              "      cursor: pointer;\n",
              "      display: none;\n",
              "      fill: #1967D2;\n",
              "      height: 32px;\n",
              "      padding: 0 0 0 0;\n",
              "      width: 32px;\n",
              "    }\n",
              "\n",
              "    .colab-df-convert:hover {\n",
              "      background-color: #E2EBFA;\n",
              "      box-shadow: 0px 1px 2px rgba(60, 64, 67, 0.3), 0px 1px 3px 1px rgba(60, 64, 67, 0.15);\n",
              "      fill: #174EA6;\n",
              "    }\n",
              "\n",
              "    [theme=dark] .colab-df-convert {\n",
              "      background-color: #3B4455;\n",
              "      fill: #D2E3FC;\n",
              "    }\n",
              "\n",
              "    [theme=dark] .colab-df-convert:hover {\n",
              "      background-color: #434B5C;\n",
              "      box-shadow: 0px 1px 3px 1px rgba(0, 0, 0, 0.15);\n",
              "      filter: drop-shadow(0px 1px 2px rgba(0, 0, 0, 0.3));\n",
              "      fill: #FFFFFF;\n",
              "    }\n",
              "  </style>\n",
              "\n",
              "      <script>\n",
              "        const buttonEl =\n",
              "          document.querySelector('#df-41f9d03a-5796-4685-9628-2a8e631b98cb button.colab-df-convert');\n",
              "        buttonEl.style.display =\n",
              "          google.colab.kernel.accessAllowed ? 'block' : 'none';\n",
              "\n",
              "        async function convertToInteractive(key) {\n",
              "          const element = document.querySelector('#df-41f9d03a-5796-4685-9628-2a8e631b98cb');\n",
              "          const dataTable =\n",
              "            await google.colab.kernel.invokeFunction('convertToInteractive',\n",
              "                                                     [key], {});\n",
              "          if (!dataTable) return;\n",
              "\n",
              "          const docLinkHtml = 'Like what you see? Visit the ' +\n",
              "            '<a target=\"_blank\" href=https://colab.research.google.com/notebooks/data_table.ipynb>data table notebook</a>'\n",
              "            + ' to learn more about interactive tables.';\n",
              "          element.innerHTML = '';\n",
              "          dataTable['output_type'] = 'display_data';\n",
              "          await google.colab.output.renderOutput(dataTable, element);\n",
              "          const docLink = document.createElement('div');\n",
              "          docLink.innerHTML = docLinkHtml;\n",
              "          element.appendChild(docLink);\n",
              "        }\n",
              "      </script>\n",
              "    </div>\n",
              "  </div>\n",
              "  "
            ]
          },
          "metadata": {},
          "execution_count": 46
        }
      ]
    },
    {
      "cell_type": "markdown",
      "source": [
        "keeping the diseases and encoded symptoms in different dataframes"
      ],
      "metadata": {
        "id": "OjPYbXwrDER9"
      }
    },
    {
      "cell_type": "code",
      "source": [
        "(dsw[cols] == 0).all()\n",
        "\n",
        "dsw['Disease'].value_counts()\n",
        "\n",
        "dsw['Disease'].unique()\n",
        "\n",
        "data = dsw.iloc[:,1:].values\n",
        "labels = dsw['Disease'].values\n",
        "print(data)"
      ],
      "metadata": {
        "id": "tvJseQPqD2YL"
      },
      "execution_count": null,
      "outputs": []
    },
    {
      "cell_type": "markdown",
      "source": [
        "Data splitting and model training"
      ],
      "metadata": {
        "id": "zAfQwCr3EG3N"
      }
    },
    {
      "cell_type": "code",
      "source": [
        "x_train, x_test, y_train, y_test = train_test_split(data, labels, shuffle=True, train_size = 0.85)\n",
        "print(x_train.shape, x_test.shape, y_train.shape, y_test.shape)\n",
        "\n",
        "model = SVC()\n",
        "model.fit(x_train, y_train)\n",
        "\n",
        "preds = model.predict(x_test)\n",
        "print(preds)"
      ],
      "metadata": {
        "id": "VKWdmhnsEHtD"
      },
      "execution_count": null,
      "outputs": []
    },
    {
      "cell_type": "markdown",
      "source": [
        "evaluating the model's accuracy"
      ],
      "metadata": {
        "id": "7uxeu4VlGusI"
      }
    },
    {
      "cell_type": "code",
      "source": [
        "conf_mat = confusion_matrix(y_test, preds)\n",
        "dsw_cm = pd.DataFrame(conf_mat, index=dsw['Disease'].unique(), columns=dsw['Disease'].unique())\n",
        "print('F1-score% =', f1_score(y_test, preds, average='macro')*100, '|', 'Accuracy% =', accuracy_score(y_test, preds)*100)\n",
        "sns.heatmap(dsw_cm)"
      ],
      "metadata": {
        "id": "mGYGTtPIGvHu"
      },
      "execution_count": null,
      "outputs": []
    },
    {
      "cell_type": "markdown",
      "source": [
        "Functions for predication of user inputs"
      ],
      "metadata": {
        "id": "QnDDkKGZIVJL"
      }
    },
    {
      "cell_type": "code",
      "source": [
        "def message():\n",
        "    if (Symptom1.get() == \"None\" and  Symptom2.get() == \"None\" and Symptom3.get() == \"None\" and Symptom4.get() == \"None\" and Symptom5.get() == \"None\"):\n",
        "        messagebox.showinfo(\"OPPS!!\", \"ENTER  SYMPTOMS PLEASE\")\n",
        "    else :\n",
        "        SVM()\n",
        "\n",
        "def SVM():\n",
        "    psymptoms = [Symptom1.get(),Symptom2.get(),Symptom3.get(),Symptom4.get(),Symptom5.get()]\n",
        "    a = np.array(Ds1[\"Symptom\"])\n",
        "    b = np.array(Ds1[\"weight\"])\n",
        "    for j in range(len(psymptoms)):\n",
        "        for k in range(len(a)):\n",
        "            if psymptoms[j]==a[k]:\n",
        "                psymptoms[j]=b[k]\n",
        "\n",
        "    nulls = [0,0,0,0,0,0,0,0,0,0,0,0]\n",
        "    psy = [psymptoms + nulls]\n",
        "\n",
        "    pred2 = model.predict(psy)\n",
        "    t3.delete(\"1.0\", END)\n",
        "    t3.insert(END, pred2[0])"
      ],
      "metadata": {
        "id": "nI6BJY7FIUB3"
      },
      "execution_count": null,
      "outputs": []
    },
    {
      "cell_type": "markdown",
      "source": [
        "creation of a GUI"
      ],
      "metadata": {
        "id": "qU8NSAm5HkdA"
      }
    },
    {
      "cell_type": "code",
      "source": [
        "root = Tk()\n",
        "root.title(\" Disease Prediction From Symptoms\")\n",
        "root.configure()\n",
        "\n",
        "Symptom1 = StringVar()\n",
        "Symptom1.set(None)\n",
        "Symptom2 = StringVar()\n",
        "Symptom2.set(None)\n",
        "Symptom3 = StringVar()\n",
        "Symptom3.set(None)\n",
        "Symptom4 = StringVar()\n",
        "Symptom4.set(None)\n",
        "Symptom5 = StringVar()\n",
        "Symptom5.set(None)\n",
        "\n",
        "\n",
        "w2 = Label(root, justify=CENTER, text=\" Disease Prediction From Symptoms \")\n",
        "w2.config(font=(\"Helvetica\", 30))\n",
        "w2.grid(row=1, column=0, columnspan=2, padx=100)\n",
        "\n",
        "NameLb1 = Label(root, text=\"\")\n",
        "NameLb1.config(font=(\"Helvetica\", 20))\n",
        "NameLb1.grid(row=5, column=1, pady=10,  sticky=W)\n",
        "\n",
        "S1Lb = Label(root,  text=\"Symptom 1\")\n",
        "S1Lb.config(font=(\"Helvetica\", 15))\n",
        "S1Lb.grid(row=7, column=1, pady=10 , sticky=W)\n",
        "\n",
        "S2Lb = Label(root,  text=\"Symptom 2\")\n",
        "S2Lb.config(font=(\"Helvetica\", 15))\n",
        "S2Lb.grid(row=8, column=1, pady=10, sticky=W)\n",
        "\n",
        "S3Lb = Label(root,  text=\"Symptom 3\")\n",
        "S3Lb.config(font=(\"Helvetica\", 15))\n",
        "S3Lb.grid(row=9, column=1, pady=10, sticky=W)\n",
        "\n",
        "S4Lb = Label(root,  text=\"Symptom 4\")\n",
        "S4Lb.config(font=(\"Helvetica\", 15))\n",
        "S4Lb.grid(row=10, column=1, pady=10, sticky=W)\n",
        "\n",
        "S5Lb = Label(root,  text=\"Symptom 5\")\n",
        "S5Lb.config(font=(\"Helvetica\", 15))\n",
        "S5Lb.grid(row=11, column=1, pady=10, sticky=W)\n",
        "\n",
        "\n",
        "lr = Button(root, text=\"Predict\",height=2, width=20, command=message)\n",
        "lr.config(font=(\"Helvetica\", 15))\n",
        "lr.grid(row=15, column=1,pady=10)\n",
        "\n",
        "#OPTIONS = sorted(symptoms)\n",
        "OPTIONS = [\"fatigue\", \"yellowish_skin\", \"loss_of_appetite\", \"yellowing_of_eyes\", 'family_history',\"stomach_pain\", \"ulcers_on_tongue\", \"vomiting\", \"cough\", \"chest_pain\"]\n",
        "S1En = OptionMenu(root, Symptom1,*OPTIONS)\n",
        "S1En.grid(row=7, column=1)\n",
        "\n",
        "S2En = OptionMenu(root, Symptom2,*OPTIONS)\n",
        "S2En.grid(row=8, column=1)\n",
        "\n",
        "S3En = OptionMenu(root, Symptom3,*OPTIONS)\n",
        "S3En.grid(row=9, column=1)\n",
        "\n",
        "S4En = OptionMenu(root, Symptom4,*OPTIONS)\n",
        "S4En.grid(row=10, column=1)\n",
        "\n",
        "S5En = OptionMenu(root, Symptom5,*OPTIONS)\n",
        "S5En.grid(row=11, column=1)\n",
        "\n",
        "NameLb = Label(root, text=\"\")\n",
        "NameLb.config(font=(\"Helvetica\", 20))\n",
        "NameLb.grid(row=13, column=1, pady=10,  sticky=W)\n",
        "\n",
        "NameLb = Label(root, text=\"\")\n",
        "NameLb.config(font=(\"Helvetica\", 15))\n",
        "NameLb.grid(row=18, column=1, pady=10,  sticky=W)\n",
        "\n",
        "t3 = Text(root, height=2, width=20)\n",
        "t3.config(font=(\"Helvetica\", 20))\n",
        "t3.grid(row=19, column=1 , padx=10)\n",
        "\n",
        "root.mainloop()"
      ],
      "metadata": {
        "id": "0G0Hx1WvHln_"
      },
      "execution_count": null,
      "outputs": []
    }
  ]
}